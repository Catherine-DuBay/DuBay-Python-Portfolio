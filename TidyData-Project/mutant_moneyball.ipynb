{
 "cells": [
  {
   "cell_type": "markdown",
   "metadata": {},
   "source": [
    "# Tidy Data Project: Mutant Moneyball"
   ]
  },
  {
   "cell_type": "markdown",
   "metadata": {},
   "source": [
    "This Jupyter notebook serves as the basis of my Tidy Data project, in which I use the data file regarding the data used in Rally's *Mutant Moneyball* article."
   ]
  },
  {
   "cell_type": "markdown",
   "metadata": {},
   "source": [
    "## Section 1: Data Cleaning and Tidy Process"
   ]
  },
  {
   "cell_type": "markdown",
   "metadata": {},
   "source": [
    "Before jumping into the data analysis, we must import the data analysis tools we need as well as the dataset itself."
   ]
  },
  {
   "cell_type": "code",
   "execution_count": 61,
   "metadata": {},
   "outputs": [
    {
     "name": "stdout",
     "output_type": "stream",
     "text": [
      "<class 'pandas.core.frame.DataFrame'>\n",
      "RangeIndex: 26 entries, 0 to 25\n",
      "Data columns (total 17 columns):\n",
      " #   Column                  Non-Null Count  Dtype  \n",
      "---  ------                  --------------  -----  \n",
      " 0   Member                  26 non-null     object \n",
      " 1   TotalValue60s_heritage  10 non-null     float64\n",
      " 2   TotalValue70s_heritage  16 non-null     float64\n",
      " 3   TotalValue80s_heritage  23 non-null     float64\n",
      " 4   TotalValue90s_heritage  22 non-null     float64\n",
      " 5   TotalValue60s_ebay      10 non-null     float64\n",
      " 6   TotalValue70s_ebay      16 non-null     float64\n",
      " 7   TotalValue80s_ebay      23 non-null     float64\n",
      " 8   TotalValue90s_ebay      22 non-null     float64\n",
      " 9   TotalValue60s_wiz       10 non-null     object \n",
      " 10  TotalValue70s_wiz       16 non-null     object \n",
      " 11  TotalValue80s_wiz       23 non-null     object \n",
      " 12  TotalValue90s_wiz       22 non-null     object \n",
      " 13  TotalValue60s_oStreet   10 non-null     object \n",
      " 14  TotalValue70s_oStreet   16 non-null     object \n",
      " 15  TotalValue80s_oStreet   23 non-null     object \n",
      " 16  TotalValue90s_oStreet   22 non-null     object \n",
      "dtypes: float64(8), object(9)\n",
      "memory usage: 3.6+ KB\n",
      "None\n"
     ]
    }
   ],
   "source": [
    "# Import necessary functions.\n",
    "import pandas as pd\n",
    "\n",
    "# Import mutant_moneyball dataset.\n",
    "df = pd.read_csv(\"data/mutant_moneyball.csv\")\n",
    "\n",
    "# Display basic info.\n",
    "print(df.info())\n"
   ]
  },
  {
   "cell_type": "markdown",
   "metadata": {},
   "source": [
    "Next, we must melt the dataframe in order to convert the dataset from wide format to long format. This is key to tidy data."
   ]
  },
  {
   "cell_type": "code",
   "execution_count": 62,
   "metadata": {},
   "outputs": [
    {
     "data": {
      "text/html": [
       "<div>\n",
       "<style scoped>\n",
       "    .dataframe tbody tr th:only-of-type {\n",
       "        vertical-align: middle;\n",
       "    }\n",
       "\n",
       "    .dataframe tbody tr th {\n",
       "        vertical-align: top;\n",
       "    }\n",
       "\n",
       "    .dataframe thead th {\n",
       "        text-align: right;\n",
       "    }\n",
       "</style>\n",
       "<table border=\"1\" class=\"dataframe\">\n",
       "  <thead>\n",
       "    <tr style=\"text-align: right;\">\n",
       "      <th></th>\n",
       "      <th>Member</th>\n",
       "      <th>ValueType</th>\n",
       "      <th>Price</th>\n",
       "    </tr>\n",
       "  </thead>\n",
       "  <tbody>\n",
       "    <tr>\n",
       "      <th>0</th>\n",
       "      <td>warrenWorthington</td>\n",
       "      <td>TotalValue60s_heritage</td>\n",
       "      <td>929056.0</td>\n",
       "    </tr>\n",
       "    <tr>\n",
       "      <th>1</th>\n",
       "      <td>hankMcCoy</td>\n",
       "      <td>TotalValue60s_heritage</td>\n",
       "      <td>929776.0</td>\n",
       "    </tr>\n",
       "    <tr>\n",
       "      <th>2</th>\n",
       "      <td>scottSummers</td>\n",
       "      <td>TotalValue60s_heritage</td>\n",
       "      <td>933616.0</td>\n",
       "    </tr>\n",
       "    <tr>\n",
       "      <th>3</th>\n",
       "      <td>bobbyDrake</td>\n",
       "      <td>TotalValue60s_heritage</td>\n",
       "      <td>929776.0</td>\n",
       "    </tr>\n",
       "    <tr>\n",
       "      <th>4</th>\n",
       "      <td>jeanGrey</td>\n",
       "      <td>TotalValue60s_heritage</td>\n",
       "      <td>933616.0</td>\n",
       "    </tr>\n",
       "  </tbody>\n",
       "</table>\n",
       "</div>"
      ],
      "text/plain": [
       "              Member               ValueType     Price\n",
       "0  warrenWorthington  TotalValue60s_heritage  929056.0\n",
       "1          hankMcCoy  TotalValue60s_heritage  929776.0\n",
       "2       scottSummers  TotalValue60s_heritage  933616.0\n",
       "3         bobbyDrake  TotalValue60s_heritage  929776.0\n",
       "4           jeanGrey  TotalValue60s_heritage  933616.0"
      ]
     },
     "execution_count": 62,
     "metadata": {},
     "output_type": "execute_result"
    }
   ],
   "source": [
    "df_melted = pd.melt(df, id_vars = [\"Member\"], # Holds the column 'Member' constant.\n",
    "                    value_vars = [\"TotalValue60s_heritage\", \"TotalValue70s_heritage\", \"TotalValue80s_heritage\", \"TotalValue90s_heritage\",\n",
    "                                  \"TotalValue60s_ebay\", \"TotalValue70s_ebay\", \"TotalValue80s_ebay\", \"TotalValue90s_ebay\",\n",
    "                                  \"TotalValue60s_wiz\", \"TotalValue70s_wiz\", \"TotalValue80s_wiz\", \"TotalValue90s_wiz\",\n",
    "                                  \"TotalValue60s_oStreet\", \"TotalValue70s_oStreet\", \"TotalValue80s_oStreet\", \"TotalValue90s_oStreet\"], # Columns being reoriented.\n",
    "                    var_name = \"ValueType\", # Names column that will hold all columns being reoriented.\n",
    "                    value_name = \"Price\") # Names the column containing values from untidy dataset.\n",
    "\n",
    "# Display the first 5 rows.\n",
    "df_melted.head()"
   ]
  },
  {
   "cell_type": "markdown",
   "metadata": {},
   "source": [
    "Then, we must split our ValueType column into two using the str.split. This is because there are multiple variables in this new column."
   ]
  },
  {
   "cell_type": "code",
   "execution_count": 63,
   "metadata": {},
   "outputs": [
    {
     "data": {
      "text/html": [
       "<div>\n",
       "<style scoped>\n",
       "    .dataframe tbody tr th:only-of-type {\n",
       "        vertical-align: middle;\n",
       "    }\n",
       "\n",
       "    .dataframe tbody tr th {\n",
       "        vertical-align: top;\n",
       "    }\n",
       "\n",
       "    .dataframe thead th {\n",
       "        text-align: right;\n",
       "    }\n",
       "</style>\n",
       "<table border=\"1\" class=\"dataframe\">\n",
       "  <thead>\n",
       "    <tr style=\"text-align: right;\">\n",
       "      <th></th>\n",
       "      <th>Member</th>\n",
       "      <th>ValueType</th>\n",
       "      <th>Price</th>\n",
       "      <th>Decade</th>\n",
       "      <th>Source</th>\n",
       "    </tr>\n",
       "  </thead>\n",
       "  <tbody>\n",
       "    <tr>\n",
       "      <th>0</th>\n",
       "      <td>warrenWorthington</td>\n",
       "      <td>TotalValue60s_heritage</td>\n",
       "      <td>929056.0</td>\n",
       "      <td>TotalValue60s</td>\n",
       "      <td>heritage</td>\n",
       "    </tr>\n",
       "    <tr>\n",
       "      <th>1</th>\n",
       "      <td>hankMcCoy</td>\n",
       "      <td>TotalValue60s_heritage</td>\n",
       "      <td>929776.0</td>\n",
       "      <td>TotalValue60s</td>\n",
       "      <td>heritage</td>\n",
       "    </tr>\n",
       "    <tr>\n",
       "      <th>2</th>\n",
       "      <td>scottSummers</td>\n",
       "      <td>TotalValue60s_heritage</td>\n",
       "      <td>933616.0</td>\n",
       "      <td>TotalValue60s</td>\n",
       "      <td>heritage</td>\n",
       "    </tr>\n",
       "    <tr>\n",
       "      <th>3</th>\n",
       "      <td>bobbyDrake</td>\n",
       "      <td>TotalValue60s_heritage</td>\n",
       "      <td>929776.0</td>\n",
       "      <td>TotalValue60s</td>\n",
       "      <td>heritage</td>\n",
       "    </tr>\n",
       "    <tr>\n",
       "      <th>4</th>\n",
       "      <td>jeanGrey</td>\n",
       "      <td>TotalValue60s_heritage</td>\n",
       "      <td>933616.0</td>\n",
       "      <td>TotalValue60s</td>\n",
       "      <td>heritage</td>\n",
       "    </tr>\n",
       "  </tbody>\n",
       "</table>\n",
       "</div>"
      ],
      "text/plain": [
       "              Member               ValueType     Price         Decade  \\\n",
       "0  warrenWorthington  TotalValue60s_heritage  929056.0  TotalValue60s   \n",
       "1          hankMcCoy  TotalValue60s_heritage  929776.0  TotalValue60s   \n",
       "2       scottSummers  TotalValue60s_heritage  933616.0  TotalValue60s   \n",
       "3         bobbyDrake  TotalValue60s_heritage  929776.0  TotalValue60s   \n",
       "4           jeanGrey  TotalValue60s_heritage  933616.0  TotalValue60s   \n",
       "\n",
       "     Source  \n",
       "0  heritage  \n",
       "1  heritage  \n",
       "2  heritage  \n",
       "3  heritage  \n",
       "4  heritage  "
      ]
     },
     "execution_count": 63,
     "metadata": {},
     "output_type": "execute_result"
    }
   ],
   "source": [
    "# Split 'ValueType' into 'Source' and 'Decade' because it contains combined information about both.\n",
    "\n",
    "df_melted[[\"Decade\", \"Source\"]] = df_melted[\"ValueType\"].str.split('_', expand = True)\n",
    "\n",
    "# Display the first 5 rows.\n",
    "df_melted.head()"
   ]
  },
  {
   "cell_type": "markdown",
   "metadata": {},
   "source": [
    "Our next step is to begin tidying up individual columns. First, we shorten the column title, leaving only the necessary information."
   ]
  },
  {
   "cell_type": "code",
   "execution_count": 64,
   "metadata": {},
   "outputs": [
    {
     "data": {
      "text/html": [
       "<div>\n",
       "<style scoped>\n",
       "    .dataframe tbody tr th:only-of-type {\n",
       "        vertical-align: middle;\n",
       "    }\n",
       "\n",
       "    .dataframe tbody tr th {\n",
       "        vertical-align: top;\n",
       "    }\n",
       "\n",
       "    .dataframe thead th {\n",
       "        text-align: right;\n",
       "    }\n",
       "</style>\n",
       "<table border=\"1\" class=\"dataframe\">\n",
       "  <thead>\n",
       "    <tr style=\"text-align: right;\">\n",
       "      <th></th>\n",
       "      <th>Member</th>\n",
       "      <th>ValueType</th>\n",
       "      <th>Price</th>\n",
       "      <th>Decade</th>\n",
       "      <th>Source</th>\n",
       "    </tr>\n",
       "  </thead>\n",
       "  <tbody>\n",
       "    <tr>\n",
       "      <th>0</th>\n",
       "      <td>warrenWorthington</td>\n",
       "      <td>TotalValue60s_heritage</td>\n",
       "      <td>929056.0</td>\n",
       "      <td>60s</td>\n",
       "      <td>heritage</td>\n",
       "    </tr>\n",
       "    <tr>\n",
       "      <th>1</th>\n",
       "      <td>hankMcCoy</td>\n",
       "      <td>TotalValue60s_heritage</td>\n",
       "      <td>929776.0</td>\n",
       "      <td>60s</td>\n",
       "      <td>heritage</td>\n",
       "    </tr>\n",
       "    <tr>\n",
       "      <th>2</th>\n",
       "      <td>scottSummers</td>\n",
       "      <td>TotalValue60s_heritage</td>\n",
       "      <td>933616.0</td>\n",
       "      <td>60s</td>\n",
       "      <td>heritage</td>\n",
       "    </tr>\n",
       "    <tr>\n",
       "      <th>3</th>\n",
       "      <td>bobbyDrake</td>\n",
       "      <td>TotalValue60s_heritage</td>\n",
       "      <td>929776.0</td>\n",
       "      <td>60s</td>\n",
       "      <td>heritage</td>\n",
       "    </tr>\n",
       "    <tr>\n",
       "      <th>4</th>\n",
       "      <td>jeanGrey</td>\n",
       "      <td>TotalValue60s_heritage</td>\n",
       "      <td>933616.0</td>\n",
       "      <td>60s</td>\n",
       "      <td>heritage</td>\n",
       "    </tr>\n",
       "  </tbody>\n",
       "</table>\n",
       "</div>"
      ],
      "text/plain": [
       "              Member               ValueType     Price Decade    Source\n",
       "0  warrenWorthington  TotalValue60s_heritage  929056.0    60s  heritage\n",
       "1          hankMcCoy  TotalValue60s_heritage  929776.0    60s  heritage\n",
       "2       scottSummers  TotalValue60s_heritage  933616.0    60s  heritage\n",
       "3         bobbyDrake  TotalValue60s_heritage  929776.0    60s  heritage\n",
       "4           jeanGrey  TotalValue60s_heritage  933616.0    60s  heritage"
      ]
     },
     "execution_count": 64,
     "metadata": {},
     "output_type": "execute_result"
    }
   ],
   "source": [
    "# Clean the 'Decade' column by removing the words \"TotalValue\".\n",
    "\n",
    "df_melted[\"Decade\"] = df_melted[\"Decade\"].str.replace(\"TotalValue\", '')\n",
    "\n",
    "# Display the first 5 rows.\n",
    "df_melted.head()"
   ]
  },
  {
   "cell_type": "markdown",
   "metadata": {},
   "source": [
    "After splitting and tidying the column, we can now get rid of our original column, as we have separated the information necessary for our analysis."
   ]
  },
  {
   "cell_type": "code",
   "execution_count": 65,
   "metadata": {},
   "outputs": [
    {
     "data": {
      "text/html": [
       "<div>\n",
       "<style scoped>\n",
       "    .dataframe tbody tr th:only-of-type {\n",
       "        vertical-align: middle;\n",
       "    }\n",
       "\n",
       "    .dataframe tbody tr th {\n",
       "        vertical-align: top;\n",
       "    }\n",
       "\n",
       "    .dataframe thead th {\n",
       "        text-align: right;\n",
       "    }\n",
       "</style>\n",
       "<table border=\"1\" class=\"dataframe\">\n",
       "  <thead>\n",
       "    <tr style=\"text-align: right;\">\n",
       "      <th></th>\n",
       "      <th>Member</th>\n",
       "      <th>Price</th>\n",
       "      <th>Decade</th>\n",
       "      <th>Source</th>\n",
       "    </tr>\n",
       "  </thead>\n",
       "  <tbody>\n",
       "    <tr>\n",
       "      <th>0</th>\n",
       "      <td>warrenWorthington</td>\n",
       "      <td>929056.0</td>\n",
       "      <td>60s</td>\n",
       "      <td>heritage</td>\n",
       "    </tr>\n",
       "    <tr>\n",
       "      <th>1</th>\n",
       "      <td>hankMcCoy</td>\n",
       "      <td>929776.0</td>\n",
       "      <td>60s</td>\n",
       "      <td>heritage</td>\n",
       "    </tr>\n",
       "    <tr>\n",
       "      <th>2</th>\n",
       "      <td>scottSummers</td>\n",
       "      <td>933616.0</td>\n",
       "      <td>60s</td>\n",
       "      <td>heritage</td>\n",
       "    </tr>\n",
       "    <tr>\n",
       "      <th>3</th>\n",
       "      <td>bobbyDrake</td>\n",
       "      <td>929776.0</td>\n",
       "      <td>60s</td>\n",
       "      <td>heritage</td>\n",
       "    </tr>\n",
       "    <tr>\n",
       "      <th>4</th>\n",
       "      <td>jeanGrey</td>\n",
       "      <td>933616.0</td>\n",
       "      <td>60s</td>\n",
       "      <td>heritage</td>\n",
       "    </tr>\n",
       "  </tbody>\n",
       "</table>\n",
       "</div>"
      ],
      "text/plain": [
       "              Member     Price Decade    Source\n",
       "0  warrenWorthington  929056.0    60s  heritage\n",
       "1          hankMcCoy  929776.0    60s  heritage\n",
       "2       scottSummers  933616.0    60s  heritage\n",
       "3         bobbyDrake  929776.0    60s  heritage\n",
       "4           jeanGrey  933616.0    60s  heritage"
      ]
     },
     "execution_count": 65,
     "metadata": {},
     "output_type": "execute_result"
    }
   ],
   "source": [
    "# Drop the 'ValueType' column now that we have separated the information.\n",
    "\n",
    "df_melted.drop(columns=[\"ValueType\"], inplace = True)\n",
    "\n",
    "# Display the first 5 rows.\n",
    "df_melted.head()"
   ]
  },
  {
   "cell_type": "markdown",
   "metadata": {},
   "source": [
    "Then, we make sure that all of our data is numerical. The easiest way to do this is to first convert it all to strings, remove all unnecessary symbols, then convert it all to float."
   ]
  },
  {
   "cell_type": "code",
   "execution_count": 66,
   "metadata": {},
   "outputs": [
    {
     "data": {
      "text/html": [
       "<div>\n",
       "<style scoped>\n",
       "    .dataframe tbody tr th:only-of-type {\n",
       "        vertical-align: middle;\n",
       "    }\n",
       "\n",
       "    .dataframe tbody tr th {\n",
       "        vertical-align: top;\n",
       "    }\n",
       "\n",
       "    .dataframe thead th {\n",
       "        text-align: right;\n",
       "    }\n",
       "</style>\n",
       "<table border=\"1\" class=\"dataframe\">\n",
       "  <thead>\n",
       "    <tr style=\"text-align: right;\">\n",
       "      <th></th>\n",
       "      <th>Member</th>\n",
       "      <th>Price</th>\n",
       "      <th>Decade</th>\n",
       "      <th>Source</th>\n",
       "    </tr>\n",
       "  </thead>\n",
       "  <tbody>\n",
       "    <tr>\n",
       "      <th>0</th>\n",
       "      <td>warrenWorthington</td>\n",
       "      <td>929056.0</td>\n",
       "      <td>60s</td>\n",
       "      <td>heritage</td>\n",
       "    </tr>\n",
       "    <tr>\n",
       "      <th>1</th>\n",
       "      <td>hankMcCoy</td>\n",
       "      <td>929776.0</td>\n",
       "      <td>60s</td>\n",
       "      <td>heritage</td>\n",
       "    </tr>\n",
       "    <tr>\n",
       "      <th>2</th>\n",
       "      <td>scottSummers</td>\n",
       "      <td>933616.0</td>\n",
       "      <td>60s</td>\n",
       "      <td>heritage</td>\n",
       "    </tr>\n",
       "    <tr>\n",
       "      <th>3</th>\n",
       "      <td>bobbyDrake</td>\n",
       "      <td>929776.0</td>\n",
       "      <td>60s</td>\n",
       "      <td>heritage</td>\n",
       "    </tr>\n",
       "    <tr>\n",
       "      <th>4</th>\n",
       "      <td>jeanGrey</td>\n",
       "      <td>933616.0</td>\n",
       "      <td>60s</td>\n",
       "      <td>heritage</td>\n",
       "    </tr>\n",
       "  </tbody>\n",
       "</table>\n",
       "</div>"
      ],
      "text/plain": [
       "              Member     Price Decade    Source\n",
       "0  warrenWorthington  929056.0    60s  heritage\n",
       "1          hankMcCoy  929776.0    60s  heritage\n",
       "2       scottSummers  933616.0    60s  heritage\n",
       "3         bobbyDrake  929776.0    60s  heritage\n",
       "4           jeanGrey  933616.0    60s  heritage"
      ]
     },
     "execution_count": 66,
     "metadata": {},
     "output_type": "execute_result"
    }
   ],
   "source": [
    "# Clean the 'Price' column by converting it to strings then float and removing all unnecessary symbols.\n",
    "\n",
    "df_melted['Price'] = df_melted['Price'].astype(str).str.replace('[$,]', '', regex=True)\n",
    "df_melted['Price'] = pd.to_numeric(df_melted['Price'], errors='coerce')\n",
    "\n",
    "# Display the first 5 rows.\n",
    "df_melted.head()"
   ]
  },
  {
   "cell_type": "markdown",
   "metadata": {},
   "source": [
    "Before we are done, we should check to make sure that there are no missing or duplicated values in our dataset."
   ]
  },
  {
   "cell_type": "code",
   "execution_count": 67,
   "metadata": {},
   "outputs": [
    {
     "name": "stdout",
     "output_type": "stream",
     "text": [
      "Member      0\n",
      "Price     132\n",
      "Decade      0\n",
      "Source      0\n",
      "dtype: int64\n",
      "\n",
      "<bound method Series.sum of 0      False\n",
      "1      False\n",
      "2      False\n",
      "3      False\n",
      "4      False\n",
      "       ...  \n",
      "411    False\n",
      "412    False\n",
      "413    False\n",
      "414    False\n",
      "415    False\n",
      "Length: 416, dtype: bool>\n"
     ]
    }
   ],
   "source": [
    "# Check for missing or duplicated values.\n",
    "\n",
    "print(df_melted.isnull().sum())\n",
    "print()\n",
    "print(df_melted.duplicated().sum)"
   ]
  },
  {
   "cell_type": "markdown",
   "metadata": {},
   "source": [
    "While technically we could drop the rows with missing values, this could cause more errors later on, so we will leve it. Finally, we display the first 5 rows of our final tidy dataframe."
   ]
  },
  {
   "cell_type": "code",
   "execution_count": 68,
   "metadata": {},
   "outputs": [
    {
     "data": {
      "text/html": [
       "<div>\n",
       "<style scoped>\n",
       "    .dataframe tbody tr th:only-of-type {\n",
       "        vertical-align: middle;\n",
       "    }\n",
       "\n",
       "    .dataframe tbody tr th {\n",
       "        vertical-align: top;\n",
       "    }\n",
       "\n",
       "    .dataframe thead th {\n",
       "        text-align: right;\n",
       "    }\n",
       "</style>\n",
       "<table border=\"1\" class=\"dataframe\">\n",
       "  <thead>\n",
       "    <tr style=\"text-align: right;\">\n",
       "      <th></th>\n",
       "      <th>Member</th>\n",
       "      <th>Price</th>\n",
       "      <th>Decade</th>\n",
       "      <th>Source</th>\n",
       "    </tr>\n",
       "  </thead>\n",
       "  <tbody>\n",
       "    <tr>\n",
       "      <th>0</th>\n",
       "      <td>warrenWorthington</td>\n",
       "      <td>929056.0</td>\n",
       "      <td>60s</td>\n",
       "      <td>heritage</td>\n",
       "    </tr>\n",
       "    <tr>\n",
       "      <th>1</th>\n",
       "      <td>hankMcCoy</td>\n",
       "      <td>929776.0</td>\n",
       "      <td>60s</td>\n",
       "      <td>heritage</td>\n",
       "    </tr>\n",
       "    <tr>\n",
       "      <th>2</th>\n",
       "      <td>scottSummers</td>\n",
       "      <td>933616.0</td>\n",
       "      <td>60s</td>\n",
       "      <td>heritage</td>\n",
       "    </tr>\n",
       "    <tr>\n",
       "      <th>3</th>\n",
       "      <td>bobbyDrake</td>\n",
       "      <td>929776.0</td>\n",
       "      <td>60s</td>\n",
       "      <td>heritage</td>\n",
       "    </tr>\n",
       "    <tr>\n",
       "      <th>4</th>\n",
       "      <td>jeanGrey</td>\n",
       "      <td>933616.0</td>\n",
       "      <td>60s</td>\n",
       "      <td>heritage</td>\n",
       "    </tr>\n",
       "  </tbody>\n",
       "</table>\n",
       "</div>"
      ],
      "text/plain": [
       "              Member     Price Decade    Source\n",
       "0  warrenWorthington  929056.0    60s  heritage\n",
       "1          hankMcCoy  929776.0    60s  heritage\n",
       "2       scottSummers  933616.0    60s  heritage\n",
       "3         bobbyDrake  929776.0    60s  heritage\n",
       "4           jeanGrey  933616.0    60s  heritage"
      ]
     },
     "execution_count": 68,
     "metadata": {},
     "output_type": "execute_result"
    }
   ],
   "source": [
    "# Display first 5 rows of final tidy dataframe.\n",
    "\n",
    "df_melted.head()"
   ]
  },
  {
   "cell_type": "markdown",
   "metadata": {},
   "source": [
    "## Section 2: Visualization"
   ]
  },
  {
   "cell_type": "markdown",
   "metadata": {},
   "source": [
    "Now, we can begin the data visualization portion of our tidy data project. This involves using tools like seaborn to display data in a more efficient manner."
   ]
  },
  {
   "cell_type": "code",
   "execution_count": 69,
   "metadata": {},
   "outputs": [],
   "source": [
    "import matplotlib.pyplot as plt\n",
    "import seaborn as sns"
   ]
  },
  {
   "cell_type": "markdown",
   "metadata": {},
   "source": [
    "After importing our necessary tools, we can now get started."
   ]
  },
  {
   "cell_type": "code",
   "execution_count": 70,
   "metadata": {},
   "outputs": [
    {
     "data": {
      "text/plain": [
       "<seaborn.axisgrid.FacetGrid at 0x14cf25520>"
      ]
     },
     "execution_count": 70,
     "metadata": {},
     "output_type": "execute_result"
    },
    {
     "data": {
      "image/png": "[encoded data removed]",
      "text/plain": [
       "<Figure size 674.875x600 with 1 Axes>"
      ]
     },
     "metadata": {},
     "output_type": "display_data"
    }
   ],
   "source": [
    "# Visualize the price by source, using the hue feature to highlight the decade.\n",
    "\n",
    "sns.catplot(\n",
    "    data=df_melted, kind=\"bar\",\n",
    "    x=\"Source\", y='Price', hue=\"Decade\",\n",
    "    palette=\"Set3\", alpha=.6, height=6\n",
    ")"
   ]
  },
  {
   "cell_type": "markdown",
   "metadata": {},
   "source": [
    "As you can see from the visualization above, heritage in the 60s was one of most valuable at the time, as the price for this criteria is much higher than other decades and sources. Additionally, oStreet in the 60s was higher than any other decades."
   ]
  },
  {
   "cell_type": "markdown",
   "metadata": {},
   "source": [
    "For our next visualization, we will observe average price by decade."
   ]
  },
  {
   "cell_type": "code",
   "execution_count": 71,
   "metadata": {},
   "outputs": [
    {
     "name": "stderr",
     "output_type": "stream",
     "text": [
      "/var/folders/m7/t4m0x5tj6238p47fq8mb2dqm0000gn/T/ipykernel_2333/386056550.py:3: FutureWarning: \n",
      "\n",
      "Passing `palette` without assigning `hue` is deprecated and will be removed in v0.14.0. Assign the `x` variable to `hue` and set `legend=False` for the same effect.\n",
      "\n",
      "  sns.barplot(\n"
     ]
    },
    {
     "data": {
      "text/plain": [
       "<Axes: xlabel='Decade', ylabel='Price'>"
      ]
     },
     "execution_count": 71,
     "metadata": {},
     "output_type": "execute_result"
    },
    {
     "data": {
      "image/png": "[encoded data removed]",
      "text/plain": [
       "<Figure size 640x480 with 1 Axes>"
      ]
     },
     "metadata": {},
     "output_type": "display_data"
    }
   ],
   "source": [
    "# Visualize the average price by decade.\n",
    "\n",
    "sns.barplot(\n",
    "    data= df_melted,  \n",
    "    x='Decade',                \n",
    "    y='Price',                 \n",
    "    palette='viridis'\n",
    ")"
   ]
  },
  {
   "cell_type": "markdown",
   "metadata": {},
   "source": [
    "As we can see from the visualization, the 60s generally saw much higher prices than other decades."
   ]
  },
  {
   "cell_type": "markdown",
   "metadata": {},
   "source": [
    "## Section 3: Pivot-Table"
   ]
  },
  {
   "cell_type": "markdown",
   "metadata": {},
   "source": [
    "This final step in our tidy data project is to create a pivot table, which will calculate the standard deviation over the variables given. "
   ]
  },
  {
   "cell_type": "code",
   "execution_count": 77,
   "metadata": {},
   "outputs": [
    {
     "name": "stdout",
     "output_type": "stream",
     "text": [
      "Pivot Table (Standard Deviation of Price by Source and Decade):\n",
      "Decade              60s           70s           80s         90s\n",
      "Source                                                         \n",
      "ebay       10425.617616   1403.317094    534.065735   81.354882\n",
      "heritage  408395.112113  53348.542806  19213.492572  591.515904\n",
      "oStreet    30938.307615   2849.245935    789.393370   69.757155\n",
      "wiz         3540.908603    492.515025    295.810750   46.165733\n"
     ]
    }
   ],
   "source": [
    "# Create a pivot table, calculating the standard deviation of 'Price' by 'Source' and \"Decade\".\n",
    "pivot_table = pd.pivot_table(\n",
    "    df_melted, # Dataset (tidied)\n",
    "    values=\"Price\", # Aggregated values\n",
    "    index='Source', # Rows of pivot table \n",
    "    columns=\"Decade\", # Columns of pivot table\n",
    "    aggfunc=\"std\",  # Aggregation function (standard deviation)\n",
    "    fill_value=0 # Missing values (filled with 0)\n",
    ")\n",
    "\n",
    "# Display the pivot table.\n",
    "print(\"Pivot Table (Standard Deviation of Price by Source and Decade):\")\n",
    "print(pivot_table)"
   ]
  },
  {
   "cell_type": "markdown",
   "metadata": {},
   "source": [
    "Based on the pivot table above, the standard deviation for all sources (ebay, heritage, oStreet, and wiz) decreases as time goes on, suggesting that prices became more consistent over time. Additionally, heritage sees much larger variability in prices than any of the other sources."
   ]
  }
 ],
 "metadata": {
  "kernelspec": {
   "display_name": "base",
   "language": "python",
   "name": "python3"
  },
  "language_info": {
   "codemirror_mode": {
    "name": "ipython",
    "version": 3
   },
   "file_extension": ".py",
   "mimetype": "text/x-python",
   "name": "python",
   "nbconvert_exporter": "python",
   "pygments_lexer": "ipython3",
   "version": "3.12.7"
  }
 },
 "nbformat": 4,
 "nbformat_minor": 2
}
